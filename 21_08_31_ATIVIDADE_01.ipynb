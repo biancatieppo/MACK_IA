{
  "nbformat": 4,
  "nbformat_minor": 0,
  "metadata": {
    "colab": {
      "name": "21_08_31_ATIVIDADE_01.ipynb",
      "provenance": [],
      "collapsed_sections": []
    },
    "kernelspec": {
      "name": "python3",
      "display_name": "Python 3"
    },
    "language_info": {
      "name": "python"
    }
  },
  "cells": [
    {
      "cell_type": "markdown",
      "metadata": {
        "id": "Y-jIGCDIq_oV"
      },
      "source": [
        "# **ATIVIDADE 1** "
      ]
    },
    {
      "cell_type": "code",
      "metadata": {
        "id": "kZ0xmwa1tSF6"
      },
      "source": [
        "# Importando bibliotecas\n",
        "import numpy as np\n",
        "import pandas as pd"
      ],
      "execution_count": null,
      "outputs": []
    },
    {
      "cell_type": "markdown",
      "metadata": {
        "id": "C7b2IoHR2RIJ"
      },
      "source": [
        "**ITEM 1**"
      ]
    },
    {
      "cell_type": "code",
      "metadata": {
        "id": "RtLbxpmuseXF"
      },
      "source": [
        "var1 = 2.75\n",
        "var2 = 7\n",
        "var3 = \"Hello, world!\""
      ],
      "execution_count": null,
      "outputs": []
    },
    {
      "cell_type": "markdown",
      "metadata": {
        "id": "nn9KJnv22X70"
      },
      "source": [
        "**ITEM 2**"
      ]
    },
    {
      "cell_type": "code",
      "metadata": {
        "colab": {
          "base_uri": "https://localhost:8080/"
        },
        "id": "UdgFMSaWs9h5",
        "outputId": "96a8575b-5a91-4f72-9dfd-24a8cab18acb"
      },
      "source": [
        "lista = [var1, var2, var3]\n",
        "lista"
      ],
      "execution_count": null,
      "outputs": [
        {
          "output_type": "execute_result",
          "data": {
            "text/plain": [
              "[2.75, 7, 'Hello, world!']"
            ]
          },
          "metadata": {},
          "execution_count": 45
        }
      ]
    },
    {
      "cell_type": "markdown",
      "metadata": {
        "id": "_2QTc6IY2akZ"
      },
      "source": [
        "**ITEM 3**"
      ]
    },
    {
      "cell_type": "code",
      "metadata": {
        "colab": {
          "base_uri": "https://localhost:8080/"
        },
        "id": "rNjTRnxYtEGj",
        "outputId": "224c23f8-f37d-4f7e-cf5d-0648556b4d21"
      },
      "source": [
        "vetor = np.linspace(0, 1000, 100)\n",
        "vetor"
      ],
      "execution_count": null,
      "outputs": [
        {
          "output_type": "execute_result",
          "data": {
            "text/plain": [
              "array([   0.        ,   10.1010101 ,   20.2020202 ,   30.3030303 ,\n",
              "         40.4040404 ,   50.50505051,   60.60606061,   70.70707071,\n",
              "         80.80808081,   90.90909091,  101.01010101,  111.11111111,\n",
              "        121.21212121,  131.31313131,  141.41414141,  151.51515152,\n",
              "        161.61616162,  171.71717172,  181.81818182,  191.91919192,\n",
              "        202.02020202,  212.12121212,  222.22222222,  232.32323232,\n",
              "        242.42424242,  252.52525253,  262.62626263,  272.72727273,\n",
              "        282.82828283,  292.92929293,  303.03030303,  313.13131313,\n",
              "        323.23232323,  333.33333333,  343.43434343,  353.53535354,\n",
              "        363.63636364,  373.73737374,  383.83838384,  393.93939394,\n",
              "        404.04040404,  414.14141414,  424.24242424,  434.34343434,\n",
              "        444.44444444,  454.54545455,  464.64646465,  474.74747475,\n",
              "        484.84848485,  494.94949495,  505.05050505,  515.15151515,\n",
              "        525.25252525,  535.35353535,  545.45454545,  555.55555556,\n",
              "        565.65656566,  575.75757576,  585.85858586,  595.95959596,\n",
              "        606.06060606,  616.16161616,  626.26262626,  636.36363636,\n",
              "        646.46464646,  656.56565657,  666.66666667,  676.76767677,\n",
              "        686.86868687,  696.96969697,  707.07070707,  717.17171717,\n",
              "        727.27272727,  737.37373737,  747.47474747,  757.57575758,\n",
              "        767.67676768,  777.77777778,  787.87878788,  797.97979798,\n",
              "        808.08080808,  818.18181818,  828.28282828,  838.38383838,\n",
              "        848.48484848,  858.58585859,  868.68686869,  878.78787879,\n",
              "        888.88888889,  898.98989899,  909.09090909,  919.19191919,\n",
              "        929.29292929,  939.39393939,  949.49494949,  959.5959596 ,\n",
              "        969.6969697 ,  979.7979798 ,  989.8989899 , 1000.        ])"
            ]
          },
          "metadata": {},
          "execution_count": 46
        }
      ]
    },
    {
      "cell_type": "markdown",
      "metadata": {
        "id": "x5lf_K4I2f5m"
      },
      "source": [
        "**ITEM 4**"
      ]
    },
    {
      "cell_type": "code",
      "metadata": {
        "colab": {
          "base_uri": "https://localhost:8080/"
        },
        "id": "lEJPwzLht6LS",
        "outputId": "3c38a12e-efed-4343-bf0a-5a1f1fe7019f"
      },
      "source": [
        "matriz = vetor.reshape(10, 10)\n",
        "matriz"
      ],
      "execution_count": null,
      "outputs": [
        {
          "output_type": "execute_result",
          "data": {
            "text/plain": [
              "array([[   0.        ,   10.1010101 ,   20.2020202 ,   30.3030303 ,\n",
              "          40.4040404 ,   50.50505051,   60.60606061,   70.70707071,\n",
              "          80.80808081,   90.90909091],\n",
              "       [ 101.01010101,  111.11111111,  121.21212121,  131.31313131,\n",
              "         141.41414141,  151.51515152,  161.61616162,  171.71717172,\n",
              "         181.81818182,  191.91919192],\n",
              "       [ 202.02020202,  212.12121212,  222.22222222,  232.32323232,\n",
              "         242.42424242,  252.52525253,  262.62626263,  272.72727273,\n",
              "         282.82828283,  292.92929293],\n",
              "       [ 303.03030303,  313.13131313,  323.23232323,  333.33333333,\n",
              "         343.43434343,  353.53535354,  363.63636364,  373.73737374,\n",
              "         383.83838384,  393.93939394],\n",
              "       [ 404.04040404,  414.14141414,  424.24242424,  434.34343434,\n",
              "         444.44444444,  454.54545455,  464.64646465,  474.74747475,\n",
              "         484.84848485,  494.94949495],\n",
              "       [ 505.05050505,  515.15151515,  525.25252525,  535.35353535,\n",
              "         545.45454545,  555.55555556,  565.65656566,  575.75757576,\n",
              "         585.85858586,  595.95959596],\n",
              "       [ 606.06060606,  616.16161616,  626.26262626,  636.36363636,\n",
              "         646.46464646,  656.56565657,  666.66666667,  676.76767677,\n",
              "         686.86868687,  696.96969697],\n",
              "       [ 707.07070707,  717.17171717,  727.27272727,  737.37373737,\n",
              "         747.47474747,  757.57575758,  767.67676768,  777.77777778,\n",
              "         787.87878788,  797.97979798],\n",
              "       [ 808.08080808,  818.18181818,  828.28282828,  838.38383838,\n",
              "         848.48484848,  858.58585859,  868.68686869,  878.78787879,\n",
              "         888.88888889,  898.98989899],\n",
              "       [ 909.09090909,  919.19191919,  929.29292929,  939.39393939,\n",
              "         949.49494949,  959.5959596 ,  969.6969697 ,  979.7979798 ,\n",
              "         989.8989899 , 1000.        ]])"
            ]
          },
          "metadata": {},
          "execution_count": 47
        }
      ]
    },
    {
      "cell_type": "markdown",
      "metadata": {
        "id": "gPP31A442kdu"
      },
      "source": [
        "**ITEM 5**"
      ]
    },
    {
      "cell_type": "code",
      "metadata": {
        "colab": {
          "base_uri": "https://localhost:8080/"
        },
        "id": "fhDc2uHXuLKt",
        "outputId": "fadc081b-7c56-4bc5-afc5-a454e71ba475"
      },
      "source": [
        "sub = matriz[3:8,4:9] # Considerando a primeira linha como index 0\n",
        "sub"
      ],
      "execution_count": null,
      "outputs": [
        {
          "output_type": "execute_result",
          "data": {
            "text/plain": [
              "array([[343.43434343, 353.53535354, 363.63636364, 373.73737374,\n",
              "        383.83838384],\n",
              "       [444.44444444, 454.54545455, 464.64646465, 474.74747475,\n",
              "        484.84848485],\n",
              "       [545.45454545, 555.55555556, 565.65656566, 575.75757576,\n",
              "        585.85858586],\n",
              "       [646.46464646, 656.56565657, 666.66666667, 676.76767677,\n",
              "        686.86868687],\n",
              "       [747.47474747, 757.57575758, 767.67676768, 777.77777778,\n",
              "        787.87878788]])"
            ]
          },
          "metadata": {},
          "execution_count": 48
        }
      ]
    },
    {
      "cell_type": "markdown",
      "metadata": {
        "id": "v5jE-7W22moZ"
      },
      "source": [
        "**ITEM 6**"
      ]
    },
    {
      "cell_type": "code",
      "metadata": {
        "colab": {
          "base_uri": "https://localhost:8080/"
        },
        "id": "4BVx52Fcwf_-",
        "outputId": "f08944c9-9cf3-4973-9147-43fb17eb2637"
      },
      "source": [
        "lista = []\n",
        "\n",
        "for i in range(1, 26, 2):\n",
        "  lista.append(i)\n",
        "\n",
        "print(lista)"
      ],
      "execution_count": null,
      "outputs": [
        {
          "output_type": "stream",
          "name": "stdout",
          "text": [
            "[1, 3, 5, 7, 9, 11, 13, 15, 17, 19, 21, 23, 25]\n"
          ]
        }
      ]
    },
    {
      "cell_type": "markdown",
      "metadata": {
        "id": "Sj5NUQ4E2pls"
      },
      "source": [
        "**ITEM 7**"
      ]
    },
    {
      "cell_type": "code",
      "metadata": {
        "colab": {
          "base_uri": "https://localhost:8080/"
        },
        "id": "GBz55l8hxqAg",
        "outputId": "ef94c880-7513-4d7e-8275-4717d2a7fb26"
      },
      "source": [
        "lista = []\n",
        "i = 1\n",
        "\n",
        "while i <= 25:\n",
        "  lista.append(i)\n",
        "  i += 2\n",
        "\n",
        "print(lista)"
      ],
      "execution_count": null,
      "outputs": [
        {
          "output_type": "stream",
          "name": "stdout",
          "text": [
            "[1, 3, 5, 7, 9, 11, 13, 15, 17, 19, 21, 23, 25]\n"
          ]
        }
      ]
    },
    {
      "cell_type": "markdown",
      "metadata": {
        "id": "8zIIDGeL2r0q"
      },
      "source": [
        "**ITEM 8**"
      ]
    },
    {
      "cell_type": "code",
      "metadata": {
        "colab": {
          "base_uri": "https://localhost:8080/",
          "height": 359
        },
        "id": "6ZzuRe8OyaKl",
        "outputId": "40ce17cb-54ce-48cb-f7dd-10b8e968810c"
      },
      "source": [
        "df = pd.DataFrame(matriz)\n",
        "df"
      ],
      "execution_count": null,
      "outputs": [
        {
          "output_type": "execute_result",
          "data": {
            "text/html": [
              "<div>\n",
              "<style scoped>\n",
              "    .dataframe tbody tr th:only-of-type {\n",
              "        vertical-align: middle;\n",
              "    }\n",
              "\n",
              "    .dataframe tbody tr th {\n",
              "        vertical-align: top;\n",
              "    }\n",
              "\n",
              "    .dataframe thead th {\n",
              "        text-align: right;\n",
              "    }\n",
              "</style>\n",
              "<table border=\"1\" class=\"dataframe\">\n",
              "  <thead>\n",
              "    <tr style=\"text-align: right;\">\n",
              "      <th></th>\n",
              "      <th>0</th>\n",
              "      <th>1</th>\n",
              "      <th>2</th>\n",
              "      <th>3</th>\n",
              "      <th>4</th>\n",
              "      <th>5</th>\n",
              "      <th>6</th>\n",
              "      <th>7</th>\n",
              "      <th>8</th>\n",
              "      <th>9</th>\n",
              "    </tr>\n",
              "  </thead>\n",
              "  <tbody>\n",
              "    <tr>\n",
              "      <th>0</th>\n",
              "      <td>0.000000</td>\n",
              "      <td>10.101010</td>\n",
              "      <td>20.202020</td>\n",
              "      <td>30.303030</td>\n",
              "      <td>40.404040</td>\n",
              "      <td>50.505051</td>\n",
              "      <td>60.606061</td>\n",
              "      <td>70.707071</td>\n",
              "      <td>80.808081</td>\n",
              "      <td>90.909091</td>\n",
              "    </tr>\n",
              "    <tr>\n",
              "      <th>1</th>\n",
              "      <td>101.010101</td>\n",
              "      <td>111.111111</td>\n",
              "      <td>121.212121</td>\n",
              "      <td>131.313131</td>\n",
              "      <td>141.414141</td>\n",
              "      <td>151.515152</td>\n",
              "      <td>161.616162</td>\n",
              "      <td>171.717172</td>\n",
              "      <td>181.818182</td>\n",
              "      <td>191.919192</td>\n",
              "    </tr>\n",
              "    <tr>\n",
              "      <th>2</th>\n",
              "      <td>202.020202</td>\n",
              "      <td>212.121212</td>\n",
              "      <td>222.222222</td>\n",
              "      <td>232.323232</td>\n",
              "      <td>242.424242</td>\n",
              "      <td>252.525253</td>\n",
              "      <td>262.626263</td>\n",
              "      <td>272.727273</td>\n",
              "      <td>282.828283</td>\n",
              "      <td>292.929293</td>\n",
              "    </tr>\n",
              "    <tr>\n",
              "      <th>3</th>\n",
              "      <td>303.030303</td>\n",
              "      <td>313.131313</td>\n",
              "      <td>323.232323</td>\n",
              "      <td>333.333333</td>\n",
              "      <td>343.434343</td>\n",
              "      <td>353.535354</td>\n",
              "      <td>363.636364</td>\n",
              "      <td>373.737374</td>\n",
              "      <td>383.838384</td>\n",
              "      <td>393.939394</td>\n",
              "    </tr>\n",
              "    <tr>\n",
              "      <th>4</th>\n",
              "      <td>404.040404</td>\n",
              "      <td>414.141414</td>\n",
              "      <td>424.242424</td>\n",
              "      <td>434.343434</td>\n",
              "      <td>444.444444</td>\n",
              "      <td>454.545455</td>\n",
              "      <td>464.646465</td>\n",
              "      <td>474.747475</td>\n",
              "      <td>484.848485</td>\n",
              "      <td>494.949495</td>\n",
              "    </tr>\n",
              "    <tr>\n",
              "      <th>5</th>\n",
              "      <td>505.050505</td>\n",
              "      <td>515.151515</td>\n",
              "      <td>525.252525</td>\n",
              "      <td>535.353535</td>\n",
              "      <td>545.454545</td>\n",
              "      <td>555.555556</td>\n",
              "      <td>565.656566</td>\n",
              "      <td>575.757576</td>\n",
              "      <td>585.858586</td>\n",
              "      <td>595.959596</td>\n",
              "    </tr>\n",
              "    <tr>\n",
              "      <th>6</th>\n",
              "      <td>606.060606</td>\n",
              "      <td>616.161616</td>\n",
              "      <td>626.262626</td>\n",
              "      <td>636.363636</td>\n",
              "      <td>646.464646</td>\n",
              "      <td>656.565657</td>\n",
              "      <td>666.666667</td>\n",
              "      <td>676.767677</td>\n",
              "      <td>686.868687</td>\n",
              "      <td>696.969697</td>\n",
              "    </tr>\n",
              "    <tr>\n",
              "      <th>7</th>\n",
              "      <td>707.070707</td>\n",
              "      <td>717.171717</td>\n",
              "      <td>727.272727</td>\n",
              "      <td>737.373737</td>\n",
              "      <td>747.474747</td>\n",
              "      <td>757.575758</td>\n",
              "      <td>767.676768</td>\n",
              "      <td>777.777778</td>\n",
              "      <td>787.878788</td>\n",
              "      <td>797.979798</td>\n",
              "    </tr>\n",
              "    <tr>\n",
              "      <th>8</th>\n",
              "      <td>808.080808</td>\n",
              "      <td>818.181818</td>\n",
              "      <td>828.282828</td>\n",
              "      <td>838.383838</td>\n",
              "      <td>848.484848</td>\n",
              "      <td>858.585859</td>\n",
              "      <td>868.686869</td>\n",
              "      <td>878.787879</td>\n",
              "      <td>888.888889</td>\n",
              "      <td>898.989899</td>\n",
              "    </tr>\n",
              "    <tr>\n",
              "      <th>9</th>\n",
              "      <td>909.090909</td>\n",
              "      <td>919.191919</td>\n",
              "      <td>929.292929</td>\n",
              "      <td>939.393939</td>\n",
              "      <td>949.494949</td>\n",
              "      <td>959.595960</td>\n",
              "      <td>969.696970</td>\n",
              "      <td>979.797980</td>\n",
              "      <td>989.898990</td>\n",
              "      <td>1000.000000</td>\n",
              "    </tr>\n",
              "  </tbody>\n",
              "</table>\n",
              "</div>"
            ],
            "text/plain": [
              "            0           1           2  ...           7           8            9\n",
              "0    0.000000   10.101010   20.202020  ...   70.707071   80.808081    90.909091\n",
              "1  101.010101  111.111111  121.212121  ...  171.717172  181.818182   191.919192\n",
              "2  202.020202  212.121212  222.222222  ...  272.727273  282.828283   292.929293\n",
              "3  303.030303  313.131313  323.232323  ...  373.737374  383.838384   393.939394\n",
              "4  404.040404  414.141414  424.242424  ...  474.747475  484.848485   494.949495\n",
              "5  505.050505  515.151515  525.252525  ...  575.757576  585.858586   595.959596\n",
              "6  606.060606  616.161616  626.262626  ...  676.767677  686.868687   696.969697\n",
              "7  707.070707  717.171717  727.272727  ...  777.777778  787.878788   797.979798\n",
              "8  808.080808  818.181818  828.282828  ...  878.787879  888.888889   898.989899\n",
              "9  909.090909  919.191919  929.292929  ...  979.797980  989.898990  1000.000000\n",
              "\n",
              "[10 rows x 10 columns]"
            ]
          },
          "metadata": {},
          "execution_count": 51
        }
      ]
    },
    {
      "cell_type": "markdown",
      "metadata": {
        "id": "_FX9UcKe2xMv"
      },
      "source": [
        "**ITEM 9**"
      ]
    },
    {
      "cell_type": "code",
      "metadata": {
        "colab": {
          "base_uri": "https://localhost:8080/",
          "height": 204
        },
        "id": "AknRW-kgzB-x",
        "outputId": "e6323e49-6e91-44e4-8119-a50ccc18bef8"
      },
      "source": [
        "df.iloc[3:8, 4:9]"
      ],
      "execution_count": null,
      "outputs": [
        {
          "output_type": "execute_result",
          "data": {
            "text/html": [
              "<div>\n",
              "<style scoped>\n",
              "    .dataframe tbody tr th:only-of-type {\n",
              "        vertical-align: middle;\n",
              "    }\n",
              "\n",
              "    .dataframe tbody tr th {\n",
              "        vertical-align: top;\n",
              "    }\n",
              "\n",
              "    .dataframe thead th {\n",
              "        text-align: right;\n",
              "    }\n",
              "</style>\n",
              "<table border=\"1\" class=\"dataframe\">\n",
              "  <thead>\n",
              "    <tr style=\"text-align: right;\">\n",
              "      <th></th>\n",
              "      <th>4</th>\n",
              "      <th>5</th>\n",
              "      <th>6</th>\n",
              "      <th>7</th>\n",
              "      <th>8</th>\n",
              "    </tr>\n",
              "  </thead>\n",
              "  <tbody>\n",
              "    <tr>\n",
              "      <th>3</th>\n",
              "      <td>343.434343</td>\n",
              "      <td>353.535354</td>\n",
              "      <td>363.636364</td>\n",
              "      <td>373.737374</td>\n",
              "      <td>383.838384</td>\n",
              "    </tr>\n",
              "    <tr>\n",
              "      <th>4</th>\n",
              "      <td>444.444444</td>\n",
              "      <td>454.545455</td>\n",
              "      <td>464.646465</td>\n",
              "      <td>474.747475</td>\n",
              "      <td>484.848485</td>\n",
              "    </tr>\n",
              "    <tr>\n",
              "      <th>5</th>\n",
              "      <td>545.454545</td>\n",
              "      <td>555.555556</td>\n",
              "      <td>565.656566</td>\n",
              "      <td>575.757576</td>\n",
              "      <td>585.858586</td>\n",
              "    </tr>\n",
              "    <tr>\n",
              "      <th>6</th>\n",
              "      <td>646.464646</td>\n",
              "      <td>656.565657</td>\n",
              "      <td>666.666667</td>\n",
              "      <td>676.767677</td>\n",
              "      <td>686.868687</td>\n",
              "    </tr>\n",
              "    <tr>\n",
              "      <th>7</th>\n",
              "      <td>747.474747</td>\n",
              "      <td>757.575758</td>\n",
              "      <td>767.676768</td>\n",
              "      <td>777.777778</td>\n",
              "      <td>787.878788</td>\n",
              "    </tr>\n",
              "  </tbody>\n",
              "</table>\n",
              "</div>"
            ],
            "text/plain": [
              "            4           5           6           7           8\n",
              "3  343.434343  353.535354  363.636364  373.737374  383.838384\n",
              "4  444.444444  454.545455  464.646465  474.747475  484.848485\n",
              "5  545.454545  555.555556  565.656566  575.757576  585.858586\n",
              "6  646.464646  656.565657  666.666667  676.767677  686.868687\n",
              "7  747.474747  757.575758  767.676768  777.777778  787.878788"
            ]
          },
          "metadata": {},
          "execution_count": 52
        }
      ]
    },
    {
      "cell_type": "markdown",
      "metadata": {
        "id": "iJwH7TWU2znM"
      },
      "source": [
        "**ITEM 10**"
      ]
    },
    {
      "cell_type": "code",
      "metadata": {
        "colab": {
          "base_uri": "https://localhost:8080/",
          "height": 359
        },
        "id": "5zvYF9270iSc",
        "outputId": "f7fd5838-b3f9-4266-8287-e70d771b71d7"
      },
      "source": [
        "url = \"https://web.stanford.edu/class/archive/cs/cs109/cs109.1166/stuff/titanic.csv\"\n",
        "titanic = pd.read_csv(url)\n",
        "titanic.head(10)"
      ],
      "execution_count": null,
      "outputs": [
        {
          "output_type": "execute_result",
          "data": {
            "text/html": [
              "<div>\n",
              "<style scoped>\n",
              "    .dataframe tbody tr th:only-of-type {\n",
              "        vertical-align: middle;\n",
              "    }\n",
              "\n",
              "    .dataframe tbody tr th {\n",
              "        vertical-align: top;\n",
              "    }\n",
              "\n",
              "    .dataframe thead th {\n",
              "        text-align: right;\n",
              "    }\n",
              "</style>\n",
              "<table border=\"1\" class=\"dataframe\">\n",
              "  <thead>\n",
              "    <tr style=\"text-align: right;\">\n",
              "      <th></th>\n",
              "      <th>Survived</th>\n",
              "      <th>Pclass</th>\n",
              "      <th>Name</th>\n",
              "      <th>Sex</th>\n",
              "      <th>Age</th>\n",
              "      <th>Siblings/Spouses Aboard</th>\n",
              "      <th>Parents/Children Aboard</th>\n",
              "      <th>Fare</th>\n",
              "    </tr>\n",
              "  </thead>\n",
              "  <tbody>\n",
              "    <tr>\n",
              "      <th>0</th>\n",
              "      <td>0</td>\n",
              "      <td>3</td>\n",
              "      <td>Mr. Owen Harris Braund</td>\n",
              "      <td>male</td>\n",
              "      <td>22.0</td>\n",
              "      <td>1</td>\n",
              "      <td>0</td>\n",
              "      <td>7.2500</td>\n",
              "    </tr>\n",
              "    <tr>\n",
              "      <th>1</th>\n",
              "      <td>1</td>\n",
              "      <td>1</td>\n",
              "      <td>Mrs. John Bradley (Florence Briggs Thayer) Cum...</td>\n",
              "      <td>female</td>\n",
              "      <td>38.0</td>\n",
              "      <td>1</td>\n",
              "      <td>0</td>\n",
              "      <td>71.2833</td>\n",
              "    </tr>\n",
              "    <tr>\n",
              "      <th>2</th>\n",
              "      <td>1</td>\n",
              "      <td>3</td>\n",
              "      <td>Miss. Laina Heikkinen</td>\n",
              "      <td>female</td>\n",
              "      <td>26.0</td>\n",
              "      <td>0</td>\n",
              "      <td>0</td>\n",
              "      <td>7.9250</td>\n",
              "    </tr>\n",
              "    <tr>\n",
              "      <th>3</th>\n",
              "      <td>1</td>\n",
              "      <td>1</td>\n",
              "      <td>Mrs. Jacques Heath (Lily May Peel) Futrelle</td>\n",
              "      <td>female</td>\n",
              "      <td>35.0</td>\n",
              "      <td>1</td>\n",
              "      <td>0</td>\n",
              "      <td>53.1000</td>\n",
              "    </tr>\n",
              "    <tr>\n",
              "      <th>4</th>\n",
              "      <td>0</td>\n",
              "      <td>3</td>\n",
              "      <td>Mr. William Henry Allen</td>\n",
              "      <td>male</td>\n",
              "      <td>35.0</td>\n",
              "      <td>0</td>\n",
              "      <td>0</td>\n",
              "      <td>8.0500</td>\n",
              "    </tr>\n",
              "    <tr>\n",
              "      <th>5</th>\n",
              "      <td>0</td>\n",
              "      <td>3</td>\n",
              "      <td>Mr. James Moran</td>\n",
              "      <td>male</td>\n",
              "      <td>27.0</td>\n",
              "      <td>0</td>\n",
              "      <td>0</td>\n",
              "      <td>8.4583</td>\n",
              "    </tr>\n",
              "    <tr>\n",
              "      <th>6</th>\n",
              "      <td>0</td>\n",
              "      <td>1</td>\n",
              "      <td>Mr. Timothy J McCarthy</td>\n",
              "      <td>male</td>\n",
              "      <td>54.0</td>\n",
              "      <td>0</td>\n",
              "      <td>0</td>\n",
              "      <td>51.8625</td>\n",
              "    </tr>\n",
              "    <tr>\n",
              "      <th>7</th>\n",
              "      <td>0</td>\n",
              "      <td>3</td>\n",
              "      <td>Master. Gosta Leonard Palsson</td>\n",
              "      <td>male</td>\n",
              "      <td>2.0</td>\n",
              "      <td>3</td>\n",
              "      <td>1</td>\n",
              "      <td>21.0750</td>\n",
              "    </tr>\n",
              "    <tr>\n",
              "      <th>8</th>\n",
              "      <td>1</td>\n",
              "      <td>3</td>\n",
              "      <td>Mrs. Oscar W (Elisabeth Vilhelmina Berg) Johnson</td>\n",
              "      <td>female</td>\n",
              "      <td>27.0</td>\n",
              "      <td>0</td>\n",
              "      <td>2</td>\n",
              "      <td>11.1333</td>\n",
              "    </tr>\n",
              "    <tr>\n",
              "      <th>9</th>\n",
              "      <td>1</td>\n",
              "      <td>2</td>\n",
              "      <td>Mrs. Nicholas (Adele Achem) Nasser</td>\n",
              "      <td>female</td>\n",
              "      <td>14.0</td>\n",
              "      <td>1</td>\n",
              "      <td>0</td>\n",
              "      <td>30.0708</td>\n",
              "    </tr>\n",
              "  </tbody>\n",
              "</table>\n",
              "</div>"
            ],
            "text/plain": [
              "   Survived  Pclass  ... Parents/Children Aboard     Fare\n",
              "0         0       3  ...                       0   7.2500\n",
              "1         1       1  ...                       0  71.2833\n",
              "2         1       3  ...                       0   7.9250\n",
              "3         1       1  ...                       0  53.1000\n",
              "4         0       3  ...                       0   8.0500\n",
              "5         0       3  ...                       0   8.4583\n",
              "6         0       1  ...                       0  51.8625\n",
              "7         0       3  ...                       1  21.0750\n",
              "8         1       3  ...                       2  11.1333\n",
              "9         1       2  ...                       0  30.0708\n",
              "\n",
              "[10 rows x 8 columns]"
            ]
          },
          "metadata": {},
          "execution_count": 53
        }
      ]
    }
  ]
}